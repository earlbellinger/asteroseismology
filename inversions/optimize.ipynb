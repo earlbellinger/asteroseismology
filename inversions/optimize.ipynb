{
 "cells": [
  {
   "cell_type": "code",
   "execution_count": 93,
   "metadata": {
    "collapsed": true
   },
   "outputs": [],
   "source": [
    "import numpy as np\n",
    "import pandas as pd\n",
    "from scipy import integrate"
   ]
  },
  {
   "cell_type": "code",
   "execution_count": 80,
   "metadata": {
    "collapsed": false
   },
   "outputs": [
    {
     "data": {
      "text/html": [
       "<div>\n",
       "<table border=\"1\" class=\"dataframe\">\n",
       "  <thead>\n",
       "    <tr style=\"text-align: right;\">\n",
       "      <th></th>\n",
       "      <th>n</th>\n",
       "      <th>l</th>\n",
       "      <th>nu_s</th>\n",
       "      <th>sigma</th>\n",
       "    </tr>\n",
       "  </thead>\n",
       "  <tbody>\n",
       "    <tr>\n",
       "      <th>0</th>\n",
       "      <td>6</td>\n",
       "      <td>0</td>\n",
       "      <td>972.613</td>\n",
       "      <td>0.002</td>\n",
       "    </tr>\n",
       "    <tr>\n",
       "      <th>1</th>\n",
       "      <td>7</td>\n",
       "      <td>1</td>\n",
       "      <td>1185.592</td>\n",
       "      <td>0.004</td>\n",
       "    </tr>\n",
       "    <tr>\n",
       "      <th>2</th>\n",
       "      <td>8</td>\n",
       "      <td>0</td>\n",
       "      <td>1263.162</td>\n",
       "      <td>0.012</td>\n",
       "    </tr>\n",
       "    <tr>\n",
       "      <th>3</th>\n",
       "      <td>8</td>\n",
       "      <td>1</td>\n",
       "      <td>1329.629</td>\n",
       "      <td>0.004</td>\n",
       "    </tr>\n",
       "    <tr>\n",
       "      <th>4</th>\n",
       "      <td>8</td>\n",
       "      <td>2</td>\n",
       "      <td>1394.680</td>\n",
       "      <td>0.011</td>\n",
       "    </tr>\n",
       "  </tbody>\n",
       "</table>\n",
       "</div>"
      ],
      "text/plain": [
       "   n  l      nu_s  sigma\n",
       "0  6  0   972.613  0.002\n",
       "1  7  1  1185.592  0.004\n",
       "2  8  0  1263.162  0.012\n",
       "3  8  1  1329.629  0.004\n",
       "4  8  2  1394.680  0.011"
      ]
     },
     "execution_count": 80,
     "metadata": {},
     "output_type": "execute_result"
    }
   ],
   "source": [
    "stellar_freqs = pd.DataFrame(np.loadtxt('Sun-freqs.dat', skiprows=1), \n",
    "                     columns=['n', 'l', 'nu_s', 'sigma'])\n",
    "stellar_freqs.head()"
   ]
  },
  {
   "cell_type": "code",
   "execution_count": 81,
   "metadata": {
    "collapsed": false
   },
   "outputs": [
    {
     "data": {
      "text/html": [
       "<div>\n",
       "<table border=\"1\" class=\"dataframe\">\n",
       "  <thead>\n",
       "    <tr style=\"text-align: right;\">\n",
       "      <th></th>\n",
       "      <th>l</th>\n",
       "      <th>n</th>\n",
       "      <th>nu_m</th>\n",
       "      <th>Q</th>\n",
       "    </tr>\n",
       "  </thead>\n",
       "  <tbody>\n",
       "    <tr>\n",
       "      <th>0</th>\n",
       "      <td>0</td>\n",
       "      <td>2</td>\n",
       "      <td>404.4800</td>\n",
       "      <td>1.005840e-04</td>\n",
       "    </tr>\n",
       "    <tr>\n",
       "      <th>1</th>\n",
       "      <td>0</td>\n",
       "      <td>3</td>\n",
       "      <td>535.9387</td>\n",
       "      <td>2.491420e-05</td>\n",
       "    </tr>\n",
       "    <tr>\n",
       "      <th>2</th>\n",
       "      <td>0</td>\n",
       "      <td>4</td>\n",
       "      <td>680.5718</td>\n",
       "      <td>7.507410e-06</td>\n",
       "    </tr>\n",
       "    <tr>\n",
       "      <th>3</th>\n",
       "      <td>0</td>\n",
       "      <td>5</td>\n",
       "      <td>825.3639</td>\n",
       "      <td>2.596760e-06</td>\n",
       "    </tr>\n",
       "    <tr>\n",
       "      <th>4</th>\n",
       "      <td>0</td>\n",
       "      <td>6</td>\n",
       "      <td>972.7445</td>\n",
       "      <td>9.922740e-07</td>\n",
       "    </tr>\n",
       "  </tbody>\n",
       "</table>\n",
       "</div>"
      ],
      "text/plain": [
       "   l  n      nu_m             Q\n",
       "0  0  2  404.4800  1.005840e-04\n",
       "1  0  3  535.9387  2.491420e-05\n",
       "2  0  4  680.5718  7.507410e-06\n",
       "3  0  5  825.3639  2.596760e-06\n",
       "4  0  6  972.7445  9.922740e-07"
      ]
     },
     "execution_count": 81,
     "metadata": {},
     "output_type": "execute_result"
    }
   ],
   "source": [
    "model_freqs = pd.DataFrame(np.loadtxt('modelS/modelS.freq'),\n",
    "                   columns=['l', 'n', 'nu_m', 'Q'])\n",
    "model_freqs.head()"
   ]
  },
  {
   "cell_type": "code",
   "execution_count": 31,
   "metadata": {
    "collapsed": false,
    "scrolled": true
   },
   "outputs": [
    {
     "data": {
      "text/html": [
       "<div>\n",
       "<table border=\"1\" class=\"dataframe\">\n",
       "  <thead>\n",
       "    <tr style=\"text-align: right;\">\n",
       "      <th></th>\n",
       "      <th>n</th>\n",
       "      <th>l</th>\n",
       "      <th>nu_s</th>\n",
       "      <th>sigma</th>\n",
       "      <th>nu_m</th>\n",
       "      <th>Q</th>\n",
       "    </tr>\n",
       "  </thead>\n",
       "  <tbody>\n",
       "    <tr>\n",
       "      <th>0</th>\n",
       "      <td>6</td>\n",
       "      <td>0</td>\n",
       "      <td>972.613</td>\n",
       "      <td>0.002</td>\n",
       "      <td>972.7445</td>\n",
       "      <td>9.922740e-07</td>\n",
       "    </tr>\n",
       "    <tr>\n",
       "      <th>1</th>\n",
       "      <td>7</td>\n",
       "      <td>1</td>\n",
       "      <td>1185.592</td>\n",
       "      <td>0.004</td>\n",
       "      <td>1185.6151</td>\n",
       "      <td>2.831820e-07</td>\n",
       "    </tr>\n",
       "    <tr>\n",
       "      <th>2</th>\n",
       "      <td>8</td>\n",
       "      <td>0</td>\n",
       "      <td>1263.162</td>\n",
       "      <td>0.012</td>\n",
       "      <td>1263.5229</td>\n",
       "      <td>1.797740e-07</td>\n",
       "    </tr>\n",
       "    <tr>\n",
       "      <th>3</th>\n",
       "      <td>8</td>\n",
       "      <td>1</td>\n",
       "      <td>1329.629</td>\n",
       "      <td>0.004</td>\n",
       "      <td>1329.6956</td>\n",
       "      <td>1.238890e-07</td>\n",
       "    </tr>\n",
       "    <tr>\n",
       "      <th>4</th>\n",
       "      <td>8</td>\n",
       "      <td>2</td>\n",
       "      <td>1394.680</td>\n",
       "      <td>0.011</td>\n",
       "      <td>1394.7049</td>\n",
       "      <td>8.553300e-08</td>\n",
       "    </tr>\n",
       "  </tbody>\n",
       "</table>\n",
       "</div>"
      ],
      "text/plain": [
       "   n  l      nu_s  sigma       nu_m             Q\n",
       "0  6  0   972.613  0.002   972.7445  9.922740e-07\n",
       "1  7  1  1185.592  0.004  1185.6151  2.831820e-07\n",
       "2  8  0  1263.162  0.012  1263.5229  1.797740e-07\n",
       "3  8  1  1329.629  0.004  1329.6956  1.238890e-07\n",
       "4  8  2  1394.680  0.011  1394.7049  8.553300e-08"
      ]
     },
     "execution_count": 31,
     "metadata": {},
     "output_type": "execute_result"
    }
   ],
   "source": [
    "nu = pd.merge(nu_s, nu_m)\n",
    "nu.head()"
   ]
  },
  {
   "cell_type": "code",
   "execution_count": 84,
   "metadata": {
    "collapsed": false
   },
   "outputs": [],
   "source": [
    "nls = [(int(n), int(l)) \n",
    "       for (n,l) in np.array(nu[['n', 'l']])]"
   ]
  },
  {
   "cell_type": "code",
   "execution_count": 85,
   "metadata": {
    "collapsed": false
   },
   "outputs": [],
   "source": [
    "K = {(int(n),int(l)) :\n",
    "     pd.DataFrame(np.loadtxt('modelS_ker/c^2-\\\\rho_l='+\\\n",
    "                      str(int(l))+'_n='+str(int(n))+'.dat'),\n",
    "                  columns=['r', 'c2_m', 'rho_m'])\n",
    "     for (n,l) in nls}"
   ]
  },
  {
   "cell_type": "code",
   "execution_count": 86,
   "metadata": {
    "collapsed": false,
    "scrolled": true
   },
   "outputs": [
    {
     "data": {
      "text/html": [
       "<div>\n",
       "<table border=\"1\" class=\"dataframe\">\n",
       "  <thead>\n",
       "    <tr style=\"text-align: right;\">\n",
       "      <th></th>\n",
       "      <th>r</th>\n",
       "      <th>c2_m</th>\n",
       "      <th>rho_m</th>\n",
       "    </tr>\n",
       "  </thead>\n",
       "  <tbody>\n",
       "    <tr>\n",
       "      <th>0</th>\n",
       "      <td>0.000000</td>\n",
       "      <td>0.000000e+00</td>\n",
       "      <td>-6.696783e-129</td>\n",
       "    </tr>\n",
       "    <tr>\n",
       "      <th>1</th>\n",
       "      <td>0.008292</td>\n",
       "      <td>1.700927e-13</td>\n",
       "      <td>-5.187623e-14</td>\n",
       "    </tr>\n",
       "    <tr>\n",
       "      <th>2</th>\n",
       "      <td>0.008359</td>\n",
       "      <td>1.728319e-13</td>\n",
       "      <td>-5.270772e-14</td>\n",
       "    </tr>\n",
       "    <tr>\n",
       "      <th>3</th>\n",
       "      <td>0.008426</td>\n",
       "      <td>1.756144e-13</td>\n",
       "      <td>-5.354725e-14</td>\n",
       "    </tr>\n",
       "    <tr>\n",
       "      <th>4</th>\n",
       "      <td>0.008494</td>\n",
       "      <td>1.784437e-13</td>\n",
       "      <td>-5.439765e-14</td>\n",
       "    </tr>\n",
       "  </tbody>\n",
       "</table>\n",
       "</div>"
      ],
      "text/plain": [
       "          r          c2_m          rho_m\n",
       "0  0.000000  0.000000e+00 -6.696783e-129\n",
       "1  0.008292  1.700927e-13  -5.187623e-14\n",
       "2  0.008359  1.728319e-13  -5.270772e-14\n",
       "3  0.008426  1.756144e-13  -5.354725e-14\n",
       "4  0.008494  1.784437e-13  -5.439765e-14"
      ]
     },
     "execution_count": 86,
     "metadata": {},
     "output_type": "execute_result"
    }
   ],
   "source": [
    "K[6,0].head()"
   ]
  },
  {
   "cell_type": "code",
   "execution_count": 90,
   "metadata": {
    "collapsed": false,
    "scrolled": true
   },
   "outputs": [
    {
     "data": {
      "text/html": [
       "<div>\n",
       "<table border=\"1\" class=\"dataframe\">\n",
       "  <thead>\n",
       "    <tr style=\"text-align: right;\">\n",
       "      <th></th>\n",
       "      <th>r</th>\n",
       "      <th>c2</th>\n",
       "      <th>rho</th>\n",
       "    </tr>\n",
       "  </thead>\n",
       "  <tbody>\n",
       "    <tr>\n",
       "      <th>0</th>\n",
       "      <td>1.436801e-60</td>\n",
       "      <td>2.541536e+15</td>\n",
       "      <td>154.236483</td>\n",
       "    </tr>\n",
       "    <tr>\n",
       "      <th>1</th>\n",
       "      <td>8.291977e-03</td>\n",
       "      <td>2.544074e+15</td>\n",
       "      <td>153.356344</td>\n",
       "    </tr>\n",
       "    <tr>\n",
       "      <th>2</th>\n",
       "      <td>8.358816e-03</td>\n",
       "      <td>2.544077e+15</td>\n",
       "      <td>153.344451</td>\n",
       "    </tr>\n",
       "    <tr>\n",
       "      <th>3</th>\n",
       "      <td>8.426194e-03</td>\n",
       "      <td>2.544148e+15</td>\n",
       "      <td>153.328338</td>\n",
       "    </tr>\n",
       "    <tr>\n",
       "      <th>4</th>\n",
       "      <td>8.494117e-03</td>\n",
       "      <td>2.544221e+15</td>\n",
       "      <td>153.311917</td>\n",
       "    </tr>\n",
       "  </tbody>\n",
       "</table>\n",
       "</div>"
      ],
      "text/plain": [
       "              r            c2         rho\n",
       "0  1.436801e-60  2.541536e+15  154.236483\n",
       "1  8.291977e-03  2.544074e+15  153.356344\n",
       "2  8.358816e-03  2.544077e+15  153.344451\n",
       "3  8.426194e-03  2.544148e+15  153.328338\n",
       "4  8.494117e-03  2.544221e+15  153.311917"
      ]
     },
     "execution_count": 90,
     "metadata": {},
     "output_type": "execute_result"
    }
   ],
   "source": [
    "modelS = pd.DataFrame(np.loadtxt('c2_rho.dat'), \n",
    "                      columns=['r', 'c2', 'rho'])\n",
    "c2_m = modelS['c2']\n",
    "rho_m = modelS['rho']\n",
    "modelS.head()"
   ]
  },
  {
   "cell_type": "code",
   "execution_count": null,
   "metadata": {
    "collapsed": true
   },
   "outputs": [],
   "source": [
    "def A(n, l, c2_s, rho_s):\n",
    "    kernel = K[n,l]\n",
    "    fx = kernel['c2_m'] * (c2_m - c2_s) / c2_m + \\\n",
    "         kernel['rho_m'] * (rho_m - rho_s) / rho_m\n",
    "    return sp.integrate.simps(fx, x=kernel['r'])\n",
    "\n",
    "def freq_diff(n, l):\n",
    "    idx = nls.index((n,l))\n",
    "    nu_m = nu['nu_m'][idx]\n",
    "    nu_s = nu['nu_s'][idx]\n",
    "    return (nu_m - nu_s) / nu_m\n",
    "\n",
    "def chi_sq(c2_s, rho_s, F_surf):\n",
    "    return sum(\n",
    "        (freq_diff(n,l) - A(n,l,c2_s,rho_s) - \\\n",
    "         F_surf[nls.index((n,l))] / nu['Q'][nls.index((n,l))]\n",
    "        )**2 / nu['sigma'][nls.index((n,l))]\n",
    "               for (n,l) in nls)\n",
    "\n",
    "def L_2(c2_s, rho_s):\n",
    "    c2 = (c2_m - c2_s) / c2_m\n",
    "    rho = (rho_m - rho_s) / rho_m\n",
    "    d2c2_dr2 = np.diff(c2, n=2) / np.diff(modelS['r'], 2)\n",
    "    d2rho_dr2 = np.diff(rho, n=2) / np.diff(modelS['r'], 2)\n",
    "    return integrate.simps(d2c2_dr2**2 + d2rho_dr2**2, modelS['r'][2:])"
   ]
  },
  {
   "cell_type": "code",
   "execution_count": 119,
   "metadata": {
    "collapsed": false
   },
   "outputs": [
    {
     "data": {
      "text/plain": [
       "0.0"
      ]
     },
     "execution_count": 119,
     "metadata": {},
     "output_type": "execute_result"
    }
   ],
   "source": [
    "A(nls[0][0], nls[0][1], c2_m, rho_m) # should be 0"
   ]
  },
  {
   "cell_type": "code",
   "execution_count": 129,
   "metadata": {
    "collapsed": false
   },
   "outputs": [
    {
     "data": {
      "text/plain": [
       "0.0045089943862229465"
      ]
     },
     "execution_count": 129,
     "metadata": {},
     "output_type": "execute_result"
    }
   ],
   "source": [
    "chi_sq(c2_m, rho_m, np.zeros(len(nls))) # should be close to 0"
   ]
  },
  {
   "cell_type": "code",
   "execution_count": 148,
   "metadata": {
    "collapsed": false
   },
   "outputs": [
    {
     "data": {
      "text/plain": [
       "0.0"
      ]
     },
     "execution_count": 148,
     "metadata": {},
     "output_type": "execute_result"
    }
   ],
   "source": [
    "L_2(c2_m, rho_m) # should be 0 "
   ]
  }
 ],
 "metadata": {
  "kernelspec": {
   "display_name": "Python 3",
   "language": "python",
   "name": "python3"
  },
  "language_info": {
   "codemirror_mode": {
    "name": "ipython",
    "version": 3
   },
   "file_extension": ".py",
   "mimetype": "text/x-python",
   "name": "python",
   "nbconvert_exporter": "python",
   "pygments_lexer": "ipython3",
   "version": "3.5.1"
  }
 },
 "nbformat": 4,
 "nbformat_minor": 0
}
